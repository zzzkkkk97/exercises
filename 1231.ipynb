{
 "cells": [
  {
   "cell_type": "code",
   "execution_count": 1,
   "id": "efefaf5b-5f54-4583-a792-b945c2462259",
   "metadata": {},
   "outputs": [
    {
     "name": "stdout",
     "output_type": "stream",
     "text": [
      "Looking in indexes: https://mirrors.tuna.tsinghua.edu.cn/pypi/web/simpleNote: you may need to restart the kernel to use updated packages.\n"
     ]
    },
    {
     "name": "stderr",
     "output_type": "stream",
     "text": [
      "\n",
      "[notice] A new release of pip available: 22.2.1 -> 24.3.1\n",
      "[notice] To update, run: python.exe -m pip install --upgrade pip\n"
     ]
    },
    {
     "name": "stdout",
     "output_type": "stream",
     "text": [
      "\n",
      "Requirement already satisfied: z3-solver in c:\\users\\86137\\desktop\\first\\myenv\\lib\\site-packages (4.13.4.0)\n"
     ]
    }
   ],
   "source": [
    "pip install z3-solver\n"
   ]
  },
  {
   "cell_type": "code",
   "execution_count": 2,
   "id": "e47e1cfe-b91e-44b2-9425-86c4055858f2",
   "metadata": {},
   "outputs": [
    {
     "name": "stdout",
     "output_type": "stream",
     "text": [
      "[rabbits = 12, chicken = 23]\n"
     ]
    }
   ],
   "source": [
    "# SQL\n",
    "# prolog\n",
    "import z3\n",
    "chicken = z3.Int(\"chicken\")\n",
    "rabbits = z3.Int(\"rabbits\")\n",
    "solver = z3.Solver()\n",
    "solver.add(chicken >= 1)\n",
    "solver.add(rabbits >= 1)\n",
    "solver.add(chicken + rabbits == 35)\n",
    "solver.add(chicken * 2 + rabbits * 4 == 94)\n",
    "if solver.check() == z3.sat:\n",
    "    print(solver.model())\n",
    "else:\n",
    "    print(\"not satisfiable\")\n"
   ]
  },
  {
   "cell_type": "code",
   "execution_count": 3,
   "id": "838e9ce9-0150-46c0-b33b-19a36640166a",
   "metadata": {},
   "outputs": [
    {
     "name": "stdout",
     "output_type": "stream",
     "text": [
      "1\n"
     ]
    }
   ],
   "source": [
    "circle, triangle, square = z3.Ints(\"circle triangle square\")\n",
    "solver = z3.Solver()\n",
    "solver.add(circle + circle == 10)\n",
    "solver.add(circle * square + square == 12)\n",
    "solver.add(circle * square - triangle * circle == circle)\n",
    "if solver.check() == z3.sat:\n",
    "    print(solver.model()[triangle])\n"
   ]
  },
  {
   "cell_type": "code",
   "execution_count": 4,
   "id": "2743a3b5-3854-4803-83ad-ee6999b71806",
   "metadata": {},
   "outputs": [
    {
     "name": "stdout",
     "output_type": "stream",
     "text": [
      "not satisfiable\n"
     ]
    }
   ],
   "source": [
    "A, B, C, D = z3.Bools(\"A B C D\")\n",
    "solver = z3.Solver()\n",
    "# A -> B\n",
    "solver.add(-1 * z3.If(A, 1, 0) + z3.If(B, 1, 0) >=  0)\n",
    "# A -> C\n",
    "solver.add(-1 * z3.If(A, 1, 0) + z3.If(C, 1, 0) >= 0)\n",
    "# B -> D\n",
    "solver.add(-1 * z3.If(B, 1, 0) + z3.If(D, 1, 0) >= 0)\n",
    "# C -x- D\n",
    "solver.add(z3.If(C, 1, 0) + z3.If(D, 1, 0) <= 1)\n",
    "solver.add(A == True)\n",
    "\n",
    "if solver.check() == z3.sat:\n",
    "    print(solver.model())\n",
    "else:\n",
    "    print(\"not satisfiable\")\n"
   ]
  },
  {
   "cell_type": "code",
   "execution_count": 5,
   "id": "9c101716-f2a8-4ff1-a393-f25ae2f6f83a",
   "metadata": {},
   "outputs": [
    {
     "name": "stdout",
     "output_type": "stream",
     "text": [
      "not satisfiable\n"
     ]
    }
   ],
   "source": [
    "A, B, C, D = z3.Bools(\"A B C D\")\n",
    "solver = z3.Solver()\n",
    "solver.add(z3.Implies(A, B))\n",
    "solver.add(z3.Implies(A, C))\n",
    "solver.add(z3.Implies(B, D))\n",
    "solver.add(z3.Implies(C, z3.Not(D)))\n",
    "solver.add(A == True)\n",
    "if solver.check() == z3.sat:\n",
    "    print(solver.model())\n",
    "else:\n",
    "    print(\"not satisfiable\")\n"
   ]
  },
  {
   "cell_type": "code",
   "execution_count": null,
   "id": "f442dd35-02ab-4b09-a1fa-cc8e08f8136c",
   "metadata": {},
   "outputs": [],
   "source": []
  }
 ],
 "metadata": {
  "kernelspec": {
   "display_name": "Python 3 (ipykernel)",
   "language": "python",
   "name": "python3"
  },
  "language_info": {
   "codemirror_mode": {
    "name": "ipython",
    "version": 3
   },
   "file_extension": ".py",
   "mimetype": "text/x-python",
   "name": "python",
   "nbconvert_exporter": "python",
   "pygments_lexer": "ipython3",
   "version": "3.10.6"
  }
 },
 "nbformat": 4,
 "nbformat_minor": 5
}
