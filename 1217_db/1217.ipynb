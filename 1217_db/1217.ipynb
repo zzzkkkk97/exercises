{
 "cells": [
  {
   "cell_type": "code",
   "execution_count": 1,
   "id": "0495da04-1d01-4f49-9982-91a645b73788",
   "metadata": {},
   "outputs": [],
   "source": [
    "import sqlite3"
   ]
  },
  {
   "cell_type": "code",
   "execution_count": 2,
   "id": "550c46a7-1c35-4982-9016-64b833c792ad",
   "metadata": {},
   "outputs": [
    {
     "data": {
      "text/plain": [
       "<sqlite3.Cursor at 0x1efc6684d40>"
      ]
     },
     "execution_count": 2,
     "metadata": {},
     "output_type": "execute_result"
    }
   ],
   "source": [
    "con = sqlite3.connect(\"student.db\")\n",
    "con.execute(\"create table newstudents (id int, name text, age int)\")\n",
    "con.execute(\"insert into newstudents values (12, 'zhangsan', 19)\")\n",
    "con.execute(\"insert into newstudents values (13, 'lisi', 20)\")"
   ]
  },
  {
   "cell_type": "code",
   "execution_count": 3,
   "id": "2b80747f-f05a-4b3f-b825-b1ec5379b4ec",
   "metadata": {},
   "outputs": [],
   "source": [
    "def check(con, name):\n",
    "    sql = f\"select * from newstudents where name = '{name}'\"\n",
    "    print(sql)\n",
    "    cursor = con.execute(sql)\n",
    "    for entry in cursor:\n",
    "        print(entry)\n",
    "\n",
    "\n",
    "    "
   ]
  },
  {
   "cell_type": "code",
   "execution_count": 4,
   "id": "0bb9084a-0e5c-4af9-8323-ffd11d79d8b1",
   "metadata": {},
   "outputs": [
    {
     "name": "stdout",
     "output_type": "stream",
     "text": [
      "select * from newstudents where name = 'zhangsan'\n",
      "(12, 'zhangsan', 19)\n"
     ]
    }
   ],
   "source": [
    "check(con, \"zhangsan\")"
   ]
  },
  {
   "cell_type": "code",
   "execution_count": 5,
   "id": "faaf0424-7873-4c5c-bcb5-cb54caaee2a0",
   "metadata": {},
   "outputs": [
    {
     "name": "stdout",
     "output_type": "stream",
     "text": [
      "select * from newstudents where name = 'zhouwu'--'\n"
     ]
    }
   ],
   "source": [
    "check(con, \"zhouwu'--\")#单引号被注释掉了"
   ]
  },
  {
   "cell_type": "code",
   "execution_count": 6,
   "id": "8e04759c-d49e-4d41-b606-e03b83684234",
   "metadata": {},
   "outputs": [
    {
     "name": "stdout",
     "output_type": "stream",
     "text": [
      "select * from newstudents where name = 'zhouwu' or True--'\n",
      "(12, 'zhangsan', 19)\n",
      "(13, 'lisi', 20)\n"
     ]
    }
   ],
   "source": [
    "#更改上面语句使其总是为真\n",
    "check(con, \"zhouwu' or True--\")\n",
    "#sql注入攻击"
   ]
  },
  {
   "cell_type": "code",
   "execution_count": 7,
   "id": "4d4efeb0-a6b3-480b-8060-0a8116d13692",
   "metadata": {},
   "outputs": [],
   "source": [
    "def check2(con, name):\n",
    "    sql = \"select * from newstudents where name = ?\"\n",
    "    cursor = con.execute(sql, (name,))\n",
    "    for entry in cursor:\n",
    "        print(entry)"
   ]
  },
  {
   "cell_type": "code",
   "execution_count": 8,
   "id": "92d3b590-c6be-438d-b3a2-c18c9e55e1dd",
   "metadata": {},
   "outputs": [
    {
     "name": "stdout",
     "output_type": "stream",
     "text": [
      "(12, 'zhangsan', 19)\n"
     ]
    }
   ],
   "source": [
    "check2(con, \"zhangsan\")"
   ]
  },
  {
   "cell_type": "code",
   "execution_count": 9,
   "id": "0082d2a0-be45-4fe0-af23-2b7c8026ee2b",
   "metadata": {},
   "outputs": [],
   "source": [
    "check2(con, \"zhouwu' or TRUE--\")"
   ]
  },
  {
   "cell_type": "code",
   "execution_count": 10,
   "id": "7248fcfe-b69f-4acf-aee1-a6a65431a504",
   "metadata": {},
   "outputs": [],
   "source": [
    "data = [\n",
    "    (125, \"zhouwu\", 20),\n",
    "    (126, \"wangliu\", 21),\n",
    "    (127, \"qiqi\", 20),\n",
    "]"
   ]
  },
  {
   "cell_type": "code",
   "execution_count": 11,
   "id": "caff3383-3ed2-43cb-9d8f-761833322d77",
   "metadata": {},
   "outputs": [
    {
     "ename": "SyntaxError",
     "evalue": "invalid character '、' (U+3001) (1527922341.py, line 1)",
     "output_type": "error",
     "traceback": [
      "\u001b[1;36m  Cell \u001b[1;32mIn[11], line 1\u001b[1;36m\u001b[0m\n\u001b[1;33m    con.executemany(\"insert into newstudents values (?, ?, ?)\", data)、\u001b[0m\n\u001b[1;37m                                                                     ^\u001b[0m\n\u001b[1;31mSyntaxError\u001b[0m\u001b[1;31m:\u001b[0m invalid character '、' (U+3001)\n"
     ]
    }
   ],
   "source": [
    "con.executemany(\"insert into newstudents values (?, ?, ?)\", data)、\n",
    "\n"
   ]
  },
  {
   "cell_type": "code",
   "execution_count": 12,
   "id": "9863946a-357b-4b27-a61f-583d5d8930c3",
   "metadata": {},
   "outputs": [
    {
     "data": {
      "text/plain": [
       "<sqlite3.Cursor at 0x1efc6b44fc0>"
      ]
     },
     "execution_count": 12,
     "metadata": {},
     "output_type": "execute_result"
    }
   ],
   "source": [
    "con.executemany(\"insert into newstudents values (?, ?, ?)\", data)"
   ]
  },
  {
   "cell_type": "code",
   "execution_count": 13,
   "id": "3b89413f-9841-49f8-8229-d9a19f8f94ff",
   "metadata": {},
   "outputs": [
    {
     "ename": "OperationalError",
     "evalue": "near \"*\": syntax error",
     "output_type": "error",
     "traceback": [
      "\u001b[1;31m---------------------------------------------------------------------------\u001b[0m",
      "\u001b[1;31mOperationalError\u001b[0m                          Traceback (most recent call last)",
      "Cell \u001b[1;32mIn[13], line 1\u001b[0m\n\u001b[1;32m----> 1\u001b[0m \u001b[43mcon\u001b[49m\u001b[38;5;241;43m.\u001b[39;49m\u001b[43mexecutescript\u001b[49m\u001b[43m(\u001b[49m\u001b[38;5;124;43m\"\"\"\u001b[39;49m\n\u001b[0;32m      2\u001b[0m \u001b[38;5;124;43minsert into ****;\u001b[39;49m\n\u001b[0;32m      3\u001b[0m \u001b[38;5;124;43minsert into ****;\u001b[39;49m\u001b[38;5;124;43m\"\"\"\u001b[39;49m\u001b[43m)\u001b[49m\n",
      "\u001b[1;31mOperationalError\u001b[0m: near \"*\": syntax error"
     ]
    }
   ],
   "source": [
    "con.executescript(\"\"\"\n",
    "insert into ****;\n",
    "insert into ****;\"\"\")"
   ]
  },
  {
   "cell_type": "code",
   "execution_count": 14,
   "id": "fa9ef4cb-58e9-4057-8b1b-3700cfe5f3a5",
   "metadata": {},
   "outputs": [
    {
     "ename": "TypeError",
     "evalue": "write() argument must be str, not bytes",
     "output_type": "error",
     "traceback": [
      "\u001b[1;31m---------------------------------------------------------------------------\u001b[0m",
      "\u001b[1;31mTypeError\u001b[0m                                 Traceback (most recent call last)",
      "Cell \u001b[1;32mIn[14], line 4\u001b[0m\n\u001b[0;32m      2\u001b[0m student \u001b[38;5;241m=\u001b[39m {\u001b[38;5;124m\"\u001b[39m\u001b[38;5;124mname\u001b[39m\u001b[38;5;124m\"\u001b[39m, \u001b[38;5;124m\"\u001b[39m\u001b[38;5;124mzhangsan\u001b[39m\u001b[38;5;124m\"\u001b[39m, \u001b[38;5;124m\"\u001b[39m\u001b[38;5;124mage\u001b[39m\u001b[38;5;124m\"\u001b[39m}\n\u001b[0;32m      3\u001b[0m \u001b[38;5;28;01mwith\u001b[39;00m \u001b[38;5;28mopen\u001b[39m(\u001b[38;5;124m\"\u001b[39m\u001b[38;5;124mstudent.p\u001b[39m\u001b[38;5;124m\"\u001b[39m, \u001b[38;5;124m\"\u001b[39m\u001b[38;5;124mw\u001b[39m\u001b[38;5;124m\"\u001b[39m) \u001b[38;5;28;01mas\u001b[39;00m f:\n\u001b[1;32m----> 4\u001b[0m     \u001b[43mpickle\u001b[49m\u001b[38;5;241;43m.\u001b[39;49m\u001b[43mdump\u001b[49m\u001b[43m(\u001b[49m\u001b[43mstudent\u001b[49m\u001b[43m,\u001b[49m\u001b[43m \u001b[49m\u001b[43mf\u001b[49m\u001b[43m)\u001b[49m\n",
      "\u001b[1;31mTypeError\u001b[0m: write() argument must be str, not bytes"
     ]
    }
   ],
   "source": [
    "import pickle\n",
    "student = {\"name\", \"zhangsan\", \"age\"}\n",
    "with open(\"student.p\", \"w\") as f:\n",
    "    pickle.dump(student, f)"
   ]
  },
  {
   "cell_type": "code",
   "execution_count": 15,
   "id": "d586b339-732f-47aa-9db4-77740967b6e7",
   "metadata": {},
   "outputs": [],
   "source": [
    "import pickle\n",
    "# 创建一个字典，包含学生的信息\n",
    "student = {\"name\":\"zhangsan\", \"age\": None}\n",
    "# 以二进制模式打开文件\n",
    "with open(\"student.p\", \"wb\") as f:\n",
    "    # 使用 pickle.dump 存储字典对象\n",
    "    pickle.dump(student, f)"
   ]
  },
  {
   "cell_type": "code",
   "execution_count": 16,
   "id": "1fc916ca-123b-4655-ad14-15fbcfe9bc00",
   "metadata": {},
   "outputs": [],
   "source": [
    "with open(\"student.p\", \"rb\") as f:\n",
    "    loaded = pickle.load(f)"
   ]
  },
  {
   "cell_type": "code",
   "execution_count": 17,
   "id": "d0c28dd8-0ac4-435a-9e88-53cd14c8aec8",
   "metadata": {},
   "outputs": [],
   "source": [
    "dumped = pickle.dumps(student)"
   ]
  },
  {
   "cell_type": "code",
   "execution_count": 18,
   "id": "042d78ba-2012-4486-ab9c-dbd0d6acea98",
   "metadata": {},
   "outputs": [
    {
     "data": {
      "text/plain": [
       "bytes"
      ]
     },
     "execution_count": 18,
     "metadata": {},
     "output_type": "execute_result"
    }
   ],
   "source": [
    "type(dumped)"
   ]
  },
  {
   "cell_type": "code",
   "execution_count": 19,
   "id": "c555d702-6447-421b-be58-da538b923e9b",
   "metadata": {},
   "outputs": [],
   "source": [
    "load_from_bytes = pickle.loads(dumped)"
   ]
  },
  {
   "cell_type": "code",
   "execution_count": 20,
   "id": "506496af-15c1-4f8a-8858-6ff3cac17c9d",
   "metadata": {},
   "outputs": [
    {
     "data": {
      "text/plain": [
       "{'name': 'zhangsan', 'age': None}"
      ]
     },
     "execution_count": 20,
     "metadata": {},
     "output_type": "execute_result"
    }
   ],
   "source": [
    "load_from_bytes"
   ]
  },
  {
   "cell_type": "code",
   "execution_count": null,
   "id": "28df2e30-574e-45e3-b2b6-1ed5c55dfdbd",
   "metadata": {},
   "outputs": [],
   "source": []
  }
 ],
 "metadata": {
  "kernelspec": {
   "display_name": "Python 3 (ipykernel)",
   "language": "python",
   "name": "python3"
  },
  "language_info": {
   "codemirror_mode": {
    "name": "ipython",
    "version": 3
   },
   "file_extension": ".py",
   "mimetype": "text/x-python",
   "name": "python",
   "nbconvert_exporter": "python",
   "pygments_lexer": "ipython3",
   "version": "3.10.6"
  }
 },
 "nbformat": 4,
 "nbformat_minor": 5
}
