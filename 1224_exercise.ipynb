{
 "cells": [
  {
   "cell_type": "code",
   "execution_count": 1,
   "id": "71cec4bf-d5c0-4ad3-afe1-125477bb780b",
   "metadata": {},
   "outputs": [
    {
     "data": {
      "text/plain": [
       "13"
      ]
     },
     "execution_count": 1,
     "metadata": {},
     "output_type": "execute_result"
    }
   ],
   "source": [
    "#!/usr/bin/env python\n",
    "# coding: utf-8\n",
    "\n",
    "\n",
    "def foo(bar, buz):\n",
    "    if bar > buz:\n",
    "        bar += buz\n",
    "    else:\n",
    "        buz *= bar\n",
    "\n",
    "    return bar + buz\n",
    "\n",
    "foo(3, 4)\n",
    "foo(5, 4)\n"
   ]
  },
  {
   "cell_type": "code",
   "execution_count": null,
   "id": "b0af6818-d912-4e85-8f89-66701fecf40a",
   "metadata": {},
   "outputs": [],
   "source": []
  },
  {
   "cell_type": "code",
   "execution_count": 2,
   "id": "c0a533fb-0634-4756-864f-0e1941afeb0e",
   "metadata": {},
   "outputs": [
    {
     "ename": "ModuleNotFoundError",
     "evalue": "No module named 'flask'",
     "output_type": "error",
     "traceback": [
      "\u001b[1;31m---------------------------------------------------------------------------\u001b[0m",
      "\u001b[1;31mModuleNotFoundError\u001b[0m                       Traceback (most recent call last)",
      "Cell \u001b[1;32mIn[2], line 4\u001b[0m\n\u001b[0;32m      1\u001b[0m \u001b[38;5;66;03m#!/usr/bin/env python\u001b[39;00m\n\u001b[0;32m      2\u001b[0m \u001b[38;5;66;03m# coding: utf-8\u001b[39;00m\n\u001b[1;32m----> 4\u001b[0m \u001b[38;5;28;01mfrom\u001b[39;00m\u001b[38;5;250m \u001b[39m\u001b[38;5;21;01mflask\u001b[39;00m\u001b[38;5;250m \u001b[39m\u001b[38;5;28;01mimport\u001b[39;00m Flask\n\u001b[0;32m      6\u001b[0m app \u001b[38;5;241m=\u001b[39m Flask(\u001b[38;5;18m__name__\u001b[39m) \u001b[38;5;66;03m# 'hello'\u001b[39;00m\n\u001b[0;32m      8\u001b[0m \u001b[38;5;129m@app\u001b[39m\u001b[38;5;241m.\u001b[39mroute(\u001b[38;5;124m\"\u001b[39m\u001b[38;5;124m/<name>\u001b[39m\u001b[38;5;124m\"\u001b[39m)\n\u001b[0;32m      9\u001b[0m \u001b[38;5;28;01mdef\u001b[39;00m\u001b[38;5;250m \u001b[39m\u001b[38;5;21mhello\u001b[39m(name):\n",
      "\u001b[1;31mModuleNotFoundError\u001b[0m: No module named 'flask'"
     ]
    }
   ],
   "source": [
    "#!/usr/bin/env python\n",
    "# coding: utf-8\n",
    "\n",
    "from flask import Flask\n",
    "\n",
    "app = Flask(__name__) # 'hello'\n",
    "\n",
    "@app.route(\"/<name>\")\n",
    "def hello(name):\n",
    "    return f\"\"\"<!DOCTYPE html>\n",
    "<html>\n",
    "    <body>\n",
    "        <p>hello world, <b>{name}</b></p>\n",
    "    </body>\n",
    "</html>\"\"\"\n"
   ]
  },
  {
   "cell_type": "code",
   "execution_count": 3,
   "id": "0da5dd13-daee-4d0b-a44e-02dce6c05f6f",
   "metadata": {},
   "outputs": [
    {
     "ename": "ModuleNotFoundError",
     "evalue": "No module named 'flask'",
     "output_type": "error",
     "traceback": [
      "\u001b[1;31m---------------------------------------------------------------------------\u001b[0m",
      "\u001b[1;31mModuleNotFoundError\u001b[0m                       Traceback (most recent call last)",
      "Cell \u001b[1;32mIn[3], line 4\u001b[0m\n\u001b[0;32m      1\u001b[0m \u001b[38;5;66;03m#!/usr/bin/env python\u001b[39;00m\n\u001b[0;32m      2\u001b[0m \u001b[38;5;66;03m# coding: utf-8\u001b[39;00m\n\u001b[1;32m----> 4\u001b[0m \u001b[38;5;28;01mfrom\u001b[39;00m\u001b[38;5;250m \u001b[39m\u001b[38;5;21;01mflask\u001b[39;00m\u001b[38;5;250m \u001b[39m\u001b[38;5;28;01mimport\u001b[39;00m Flask\n\u001b[0;32m      7\u001b[0m app \u001b[38;5;241m=\u001b[39m Flask(\u001b[38;5;18m__name__\u001b[39m)\n\u001b[0;32m     10\u001b[0m \u001b[38;5;129m@app\u001b[39m\u001b[38;5;241m.\u001b[39mroute(\u001b[38;5;124m\"\u001b[39m\u001b[38;5;124m/<name>\u001b[39m\u001b[38;5;124m\"\u001b[39m)\n\u001b[0;32m     11\u001b[0m \u001b[38;5;28;01mdef\u001b[39;00m\u001b[38;5;250m \u001b[39m\u001b[38;5;21mhello\u001b[39m(name):\n",
      "\u001b[1;31mModuleNotFoundError\u001b[0m: No module named 'flask'"
     ]
    }
   ],
   "source": [
    "#!/usr/bin/env python\n",
    "# coding: utf-8\n",
    "\n",
    "from flask import Flask\n",
    "\n",
    "\n",
    "app = Flask(__name__)\n",
    "\n",
    "\n",
    "@app.route(\"/<name>\")\n",
    "def hello(name):\n",
    "    return f\"\"\"<!DOCTYPE html>\n",
    "<html>\n",
    "    <body>\n",
    "        <p>hello world, <b>{name}</b></p>\n",
    "    </body>\n",
    "</html>\"\"\"\n",
    "\n",
    "\n",
    "if __name__ == \"__main__\":\n",
    "    app.run()"
   ]
  },
  {
   "cell_type": "code",
   "execution_count": null,
   "id": "847bfef3-50c1-4b0e-8677-316aa815189b",
   "metadata": {},
   "outputs": [],
   "source": []
  },
  {
   "cell_type": "code",
   "execution_count": 4,
   "id": "96a2d3b0-23f4-40fd-b09a-deb829508adc",
   "metadata": {},
   "outputs": [
    {
     "name": "stdout",
     "output_type": "stream",
     "text": [
      "Looking in indexes: https://mirrors.tuna.tsinghua.edu.cn/pypi/web/simple\n",
      "Requirement already satisfied: coverage in c:\\users\\86137\\desktop\\first\\myenv\\lib\\site-packages (7.6.10)\n",
      "Collecting pysnooper\n",
      "  Downloading https://mirrors.tuna.tsinghua.edu.cn/pypi/web/packages/3e/04/8f4be140e8d919c283ddfc2ba956dc5caea75fdbfbc8493117a269a562a4/PySnooper-1.2.1-py2.py3-none-any.whl (15 kB)\n",
      "Collecting z3-solver\n",
      "  Downloading https://mirrors.tuna.tsinghua.edu.cn/pypi/web/packages/3c/4b/5626ed801d6fb4b383628a544af6cc0c53b3ef00451e2e524c5013a39316/z3_solver-4.13.4.0-py3-none-win_amd64.whl (16.1 MB)\n",
      "     --------------------------------------- 16.1/16.1 MB 10.4 MB/s eta 0:00:00\n",
      "Collecting libcst\n",
      "  Downloading https://mirrors.tuna.tsinghua.edu.cn/pypi/web/packages/de/87/53bea5e4e783ddf2b785c4706fdfc5fd74561a47f99995cc1d9f300d20f1/libcst-1.6.0-cp310-cp310-win_amd64.whl (2.1 MB)\n",
      "     ---------------------------------------- 2.1/2.1 MB 13.2 MB/s eta 0:00:00\n",
      "Collecting pymongo\n",
      "  Downloading https://mirrors.tuna.tsinghua.edu.cn/pypi/web/packages/ab/14/1cae5359e2c4677856527a2965c999c23f596cced4b7828d880cb8fc0f54/pymongo-4.10.1-cp310-cp310-win_amd64.whl (826 kB)\n",
      "     ------------------------------------- 826.8/826.8 kB 13.2 MB/s eta 0:00:00\n",
      "Collecting flask\n",
      "  Downloading https://mirrors.tuna.tsinghua.edu.cn/pypi/web/packages/af/47/93213ee66ef8fae3b93b3e29206f6b251e65c97bd91d8e1c5596ef15af0a/flask-3.1.0-py3-none-any.whl (102 kB)\n",
      "     ---------------------------------------- 103.0/103.0 kB ? eta 0:00:00\n",
      "Requirement already satisfied: pyyaml>=5.2 in c:\\users\\86137\\desktop\\first\\myenv\\lib\\site-packages (from libcst) (6.0.2)\n",
      "Collecting dnspython<3.0.0,>=1.16.0\n",
      "  Downloading https://mirrors.tuna.tsinghua.edu.cn/pypi/web/packages/68/1b/e0a87d256e40e8c888847551b20a017a6b98139178505dc7ffb96f04e954/dnspython-2.7.0-py3-none-any.whl (313 kB)\n",
      "     ------------------------------------- 313.6/313.6 kB 19.0 MB/s eta 0:00:00\n",
      "Collecting Werkzeug>=3.1\n",
      "  Downloading https://mirrors.tuna.tsinghua.edu.cn/pypi/web/packages/52/24/ab44c871b0f07f491e5d2ad12c9bd7358e527510618cb1b803a88e986db1/werkzeug-3.1.3-py3-none-any.whl (224 kB)\n",
      "     ------------------------------------- 224.5/224.5 kB 13.4 MB/s eta 0:00:00\n",
      "Collecting blinker>=1.9\n",
      "  Downloading https://mirrors.tuna.tsinghua.edu.cn/pypi/web/packages/10/cb/f2ad4230dc2eb1a74edf38f1a38b9b52277f75bef262d8908e60d957e13c/blinker-1.9.0-py3-none-any.whl (8.5 kB)\n",
      "Requirement already satisfied: Jinja2>=3.1.2 in c:\\users\\86137\\desktop\\first\\myenv\\lib\\site-packages (from flask) (3.1.5)\n",
      "Collecting click>=8.1.3\n",
      "  Downloading https://mirrors.tuna.tsinghua.edu.cn/pypi/web/packages/7e/d4/7ebdbd03970677812aac39c869717059dbb71a4cfc033ca6e5221787892c/click-8.1.8-py3-none-any.whl (98 kB)\n",
      "     ---------------------------------------- 98.2/98.2 kB 5.9 MB/s eta 0:00:00\n",
      "Collecting itsdangerous>=2.2\n",
      "  Downloading https://mirrors.tuna.tsinghua.edu.cn/pypi/web/packages/04/96/92447566d16df59b2a776c0fb82dbc4d9e07cd95062562af01e408583fc4/itsdangerous-2.2.0-py3-none-any.whl (16 kB)\n",
      "Requirement already satisfied: colorama in c:\\users\\86137\\desktop\\first\\myenv\\lib\\site-packages (from click>=8.1.3->flask) (0.4.6)\n",
      "Requirement already satisfied: MarkupSafe>=2.0 in c:\\users\\86137\\desktop\\first\\myenv\\lib\\site-packages (from Jinja2>=3.1.2->flask) (3.0.2)\n",
      "Installing collected packages: z3-solver, pysnooper, Werkzeug, libcst, itsdangerous, dnspython, click, blinker, pymongo, flask\n",
      "Successfully installed Werkzeug-3.1.3 blinker-1.9.0 click-8.1.8 dnspython-2.7.0 flask-3.1.0 itsdangerous-2.2.0 libcst-1.6.0 pymongo-4.10.1 pysnooper-1.2.1 z3-solver-4.13.4.0\n",
      "Note: you may need to restart the kernel to use updated packages.\n"
     ]
    },
    {
     "name": "stderr",
     "output_type": "stream",
     "text": [
      "\n",
      "[notice] A new release of pip available: 22.2.1 -> 24.3.1\n",
      "[notice] To update, run: python.exe -m pip install --upgrade pip\n"
     ]
    }
   ],
   "source": [
    "pip install coverage pysnooper z3-solver libcst pymongo flask"
   ]
  },
  {
   "cell_type": "code",
   "execution_count": 5,
   "id": "9dc89db3-260e-458a-b469-9fd9c43f27cf",
   "metadata": {},
   "outputs": [
    {
     "name": "stdout",
     "output_type": "stream",
     "text": [
      "Looking in indexes: https://mirrors.tuna.tsinghua.edu.cn/pypi/web/simple\n",
      "Requirement already satisfied: coverage in c:\\users\\86137\\desktop\\first\\myenv\\lib\\site-packages (7.6.10)\n",
      "Requirement already satisfied: pytest in c:\\users\\86137\\desktop\\first\\myenv\\lib\\site-packages (8.3.4)\n",
      "Requirement already satisfied: colorama in c:\\users\\86137\\desktop\\first\\myenv\\lib\\site-packages (from pytest) (0.4.6)\n",
      "Requirement already satisfied: pluggy<2,>=1.5 in c:\\users\\86137\\desktop\\first\\myenv\\lib\\site-packages (from pytest) (1.5.0)\n",
      "Requirement already satisfied: exceptiongroup>=1.0.0rc8 in c:\\users\\86137\\desktop\\first\\myenv\\lib\\site-packages (from pytest) (1.2.2)\n",
      "Requirement already satisfied: packaging in c:\\users\\86137\\desktop\\first\\myenv\\lib\\site-packages (from pytest) (24.2)\n",
      "Requirement already satisfied: iniconfig in c:\\users\\86137\\desktop\\first\\myenv\\lib\\site-packages (from pytest) (2.0.0)\n",
      "Requirement already satisfied: tomli>=1 in c:\\users\\86137\\desktop\\first\\myenv\\lib\\site-packages (from pytest) (2.2.1)\n",
      "Note: you may need to restart the kernel to use updated packages.\n"
     ]
    },
    {
     "name": "stderr",
     "output_type": "stream",
     "text": [
      "\n",
      "[notice] A new release of pip available: 22.2.1 -> 24.3.1\n",
      "[notice] To update, run: python.exe -m pip install --upgrade pip\n"
     ]
    }
   ],
   "source": [
    "pip install coverage pytest\n"
   ]
  },
  {
   "cell_type": "code",
   "execution_count": 6,
   "id": "409fed65-473e-4ce7-aa55-7b7f8a472577",
   "metadata": {},
   "outputs": [
    {
     "data": {
      "text/plain": [
       "13"
      ]
     },
     "execution_count": 6,
     "metadata": {},
     "output_type": "execute_result"
    }
   ],
   "source": [
    "#!/usr/bin/env python\n",
    "# coding: utf-8\n",
    "\n",
    "\n",
    "def foo(bar, buz):\n",
    "    if bar > buz:\n",
    "        bar += buz\n",
    "    else:\n",
    "        buz *= bar\n",
    "\n",
    "    return bar + buz\n",
    "\n",
    "foo(3, 4)\n",
    "foo(5, 4)\n"
   ]
  },
  {
   "cell_type": "code",
   "execution_count": 7,
   "id": "413de48b-2140-4ab6-8d86-37be43aa5808",
   "metadata": {},
   "outputs": [],
   "source": [
    "#!/usr/bin/env python\n",
    "# coding: utf-8\n",
    "\n",
    "from flask import Flask\n",
    "\n",
    "app = Flask(__name__) # 'hello'\n",
    "\n",
    "@app.route(\"/<name>\")\n",
    "def hello(name):\n",
    "    return f\"\"\"<!DOCTYPE html>\n",
    "<html>\n",
    "    <body>\n",
    "        <p>hello world, <b>{name}</b></p>\n",
    "    </body>\n",
    "</html>\"\"\"\n"
   ]
  },
  {
   "cell_type": "code",
   "execution_count": 8,
   "id": "a607a841-70cb-4415-97ae-56d830ebc9b3",
   "metadata": {},
   "outputs": [
    {
     "ename": "SyntaxError",
     "evalue": "invalid syntax (4029255053.py, line 1)",
     "output_type": "error",
     "traceback": [
      "\u001b[1;36m  Cell \u001b[1;32mIn[8], line 1\u001b[1;36m\u001b[0m\n\u001b[1;33m    <!DOCTYPE html>\u001b[0m\n\u001b[1;37m    ^\u001b[0m\n\u001b[1;31mSyntaxError\u001b[0m\u001b[1;31m:\u001b[0m invalid syntax\n"
     ]
    }
   ],
   "source": [
    "<!DOCTYPE html>\n",
    "<html>\n",
    "    <body>\n",
    "        {% if name %}\n",
    "            <p>Hello, {{ name }}</p>\n",
    "        {% else %}\n",
    "            <p>Hello, anonymous</p>\n",
    "        {% endif %}\n",
    "    </body>\n",
    "</html>\n"
   ]
  },
  {
   "cell_type": "code",
   "execution_count": 9,
   "id": "6fc83898-9856-4ac0-a98a-46b0c63d4e39",
   "metadata": {},
   "outputs": [],
   "source": [
    "#!/usr/bin/env python\n",
    "# coding: utf-8\n",
    "\n",
    "from flask import Flask, render_template\n",
    "\n",
    "app = Flask(__name__) # 'hello'\n",
    "\n",
    "@app.route(\"/hello/\")\n",
    "@app.route(\"/hello/<name>\")\n",
    "def hello(name=None):\n",
    "    return render_template(\"index.html\", name=name)\n"
   ]
  },
  {
   "cell_type": "code",
   "execution_count": 10,
   "id": "704f9908-b5e5-4bcd-a329-bb7fc3c13ef7",
   "metadata": {},
   "outputs": [],
   "source": [
    "#!/usr/bin/env python\n",
    "# coding: utf-8\n",
    "\n",
    "from flask import Flask, render_template, request\n",
    "\n",
    "app = Flask(__name__) # 'hello'\n",
    "\n",
    "@app.route(\"/hello\") # localhost:5000/hello?name=zhangsan\n",
    "def hello():\n",
    "    name = request.args.get(\"name\", \"anonymous\")\n",
    "    return render_template(\"index.html\", name=name)\n"
   ]
  },
  {
   "cell_type": "code",
   "execution_count": null,
   "id": "5f17402d-3b66-4ad6-b17a-b975af46e1fc",
   "metadata": {},
   "outputs": [],
   "source": []
  }
 ],
 "metadata": {
  "kernelspec": {
   "display_name": "Python 3 (ipykernel)",
   "language": "python",
   "name": "python3"
  },
  "language_info": {
   "codemirror_mode": {
    "name": "ipython",
    "version": 3
   },
   "file_extension": ".py",
   "mimetype": "text/x-python",
   "name": "python",
   "nbconvert_exporter": "python",
   "pygments_lexer": "ipython3",
   "version": "3.10.6"
  }
 },
 "nbformat": 4,
 "nbformat_minor": 5
}
