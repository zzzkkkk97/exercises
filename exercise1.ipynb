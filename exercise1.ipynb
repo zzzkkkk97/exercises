{
 "cells": [
  {
   "cell_type": "code",
   "execution_count": 1,
   "id": "e482d53a-c1c1-418b-83dd-a8381c1cda83",
   "metadata": {},
   "outputs": [],
   "source": [
    "class TNode:\n",
    "    def __init__(self, value, left = None, right = None):\n",
    "        self.value = value\n",
    "        self.left = left\n",
    "        self.right = right\n",
    "        "
   ]
  },
  {
   "cell_type": "code",
   "execution_count": 2,
   "id": "6a2a086b-c8ce-4f04-86c6-0673ae1f32a8",
   "metadata": {},
   "outputs": [],
   "source": [
    "node = TNode(3, None, None)"
   ]
  },
  {
   "cell_type": "code",
   "execution_count": 3,
   "id": "e4b563c2-88dc-4d77-bdaa-d1cafbe7d6e8",
   "metadata": {},
   "outputs": [],
   "source": [
    "tree = TNode(5, TNode(3), TNode(4, TNode(7), TNode(8)))"
   ]
  },
  {
   "cell_type": "code",
   "execution_count": 4,
   "id": "5b3c8317-5c2b-4f9b-83c0-8cc865e1eeee",
   "metadata": {},
   "outputs": [],
   "source": [
    "# 二叉搜索树\n",
    "def insert_bst(node, value):\n",
    "    if not node:\n",
    "        return TNode(value)\n",
    "    elif node.value < value:\n",
    "        return TNode(node.value, node.left, insert_bst(node.right, value))\n",
    "    elif node.value == value:\n",
    "        return node\n",
    "    else:\n",
    "        return TNode(node.value, insert_bst(node.left, value), node.right)\n",
    "    "
   ]
  },
  {
   "cell_type": "code",
   "execution_count": 5,
   "id": "6177e76f-b167-42a3-a027-0eacb2e53344",
   "metadata": {},
   "outputs": [],
   "source": [
    "a = insert_bst(None, 5)\n",
    "b = insert_bst(a, 4)\n",
    "c = insert_bst(b, 6)\n",
    "d = insert_bst(c, 7)"
   ]
  },
  {
   "cell_type": "code",
   "execution_count": 6,
   "id": "26d21109-0bbf-43e5-bba8-d59d3b0cddbf",
   "metadata": {},
   "outputs": [],
   "source": [
    "# 中序遍历\n",
    "def traverse(node):\n",
    "    if not node:\n",
    "        return \n",
    "    else:\n",
    "        #left\n",
    "        traverse(node.left)\n",
    "        #node\n",
    "        print(node.value)\n",
    "        #right\n",
    "        traverse(node.right)\n",
    "        "
   ]
  },
  {
   "cell_type": "code",
   "execution_count": 7,
   "id": "99316ee0-ad7e-4aad-9338-ffe80d6d51b8",
   "metadata": {},
   "outputs": [
    {
     "name": "stdout",
     "output_type": "stream",
     "text": [
      "5\n"
     ]
    }
   ],
   "source": [
    "traverse(a)"
   ]
  },
  {
   "cell_type": "code",
   "execution_count": 8,
   "id": "4ba29c15-94a9-46c5-a04d-67cd895da742",
   "metadata": {},
   "outputs": [
    {
     "name": "stdout",
     "output_type": "stream",
     "text": [
      "4\n",
      "5\n",
      "6\n",
      "7\n"
     ]
    }
   ],
   "source": [
    "traverse(d)"
   ]
  },
  {
   "cell_type": "code",
   "execution_count": 9,
   "id": "8deacb35-3993-43fc-9f59-cde969fa86b7",
   "metadata": {},
   "outputs": [
    {
     "name": "stdout",
     "output_type": "stream",
     "text": [
      "5\n"
     ]
    }
   ],
   "source": [
    "traverse(a)"
   ]
  },
  {
   "cell_type": "code",
   "execution_count": 10,
   "id": "b3ac6a32-ca70-4faa-a029-9ac2aa31e923",
   "metadata": {},
   "outputs": [],
   "source": [
    "from urllib import robotparser"
   ]
  },
  {
   "cell_type": "code",
   "execution_count": 11,
   "id": "06e61ad4-707f-4667-8f79-8621bd5568bb",
   "metadata": {},
   "outputs": [],
   "source": [
    "rp = robotparser.RobotFileParser()"
   ]
  },
  {
   "cell_type": "code",
   "execution_count": 12,
   "id": "6c6dcd81-b2f8-4110-8bc5-9675791400e3",
   "metadata": {},
   "outputs": [],
   "source": [
    "rp.set_url(\"https://www.baidu.com/\")\n",
    "rp.read()"
   ]
  },
  {
   "cell_type": "code",
   "execution_count": 13,
   "id": "23a4fb6b-10d9-4cf4-b437-bf9e50398578",
   "metadata": {},
   "outputs": [
    {
     "ename": "TypeError",
     "evalue": "RobotFileParser.can_fetch() missing 1 required positional argument: 'url'",
     "output_type": "error",
     "traceback": [
      "\u001b[1;31m---------------------------------------------------------------------------\u001b[0m",
      "\u001b[1;31mTypeError\u001b[0m                                 Traceback (most recent call last)",
      "Cell \u001b[1;32mIn[13], line 1\u001b[0m\n\u001b[1;32m----> 1\u001b[0m \u001b[43mrp\u001b[49m\u001b[38;5;241;43m.\u001b[39;49m\u001b[43mcan_fetch\u001b[49m\u001b[43m(\u001b[49m\u001b[38;5;124;43m\"\u001b[39;49m\u001b[38;5;124;43mhttps://www.baidu.com/abc\u001b[39;49m\u001b[38;5;124;43m\"\u001b[39;49m\u001b[43m)\u001b[49m\n",
      "\u001b[1;31mTypeError\u001b[0m: RobotFileParser.can_fetch() missing 1 required positional argument: 'url'"
     ]
    }
   ],
   "source": [
    "rp.can_fetch(\"https://www.baidu.com/abc\")"
   ]
  },
  {
   "cell_type": "code",
   "execution_count": 14,
   "id": "8663634f-a252-4665-954f-e8649ed490a8",
   "metadata": {},
   "outputs": [],
   "source": [
    "url = \"http://httpbin.org/get\""
   ]
  },
  {
   "cell_type": "code",
   "execution_count": null,
   "id": "e60d7ad4-8245-4ae9-b87a-1cef9d13e257",
   "metadata": {},
   "outputs": [],
   "source": []
  }
 ],
 "metadata": {
  "kernelspec": {
   "display_name": "Python 3 (ipykernel)",
   "language": "python",
   "name": "python3"
  },
  "language_info": {
   "codemirror_mode": {
    "name": "ipython",
    "version": 3
   },
   "file_extension": ".py",
   "mimetype": "text/x-python",
   "name": "python",
   "nbconvert_exporter": "python",
   "pygments_lexer": "ipython3",
   "version": "3.10.6"
  }
 },
 "nbformat": 4,
 "nbformat_minor": 5
}
