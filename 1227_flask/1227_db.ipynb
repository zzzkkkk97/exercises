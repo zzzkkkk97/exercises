{
 "cells": [
  {
   "cell_type": "code",
   "execution_count": 1,
   "id": "364f6c3d-70ca-44dd-8d7b-236eacaf625b",
   "metadata": {},
   "outputs": [],
   "source": [
    "import sqlite3"
   ]
  },
  {
   "cell_type": "code",
   "execution_count": 2,
   "id": "649307f8-ac49-4a7a-ba72-9a792dc7e8ce",
   "metadata": {},
   "outputs": [],
   "source": [
    "con = sqlite3.connect(\"student1.db\")"
   ]
  },
  {
   "cell_type": "code",
   "execution_count": 3,
   "id": "230d18e2-9f64-4212-a31e-430b21ad2347",
   "metadata": {},
   "outputs": [
    {
     "data": {
      "text/plain": [
       "<sqlite3.Cursor at 0x207d3878b40>"
      ]
     },
     "execution_count": 3,
     "metadata": {},
     "output_type": "execute_result"
    }
   ],
   "source": [
    "con.execute(\"create table students2 (ID text, name text, age int)\")"
   ]
  },
  {
   "cell_type": "code",
   "execution_count": 4,
   "id": "62578d2d-441c-4a45-b792-03f2f68c3573",
   "metadata": {},
   "outputs": [
    {
     "data": {
      "text/plain": [
       "<sqlite3.Cursor at 0x207d3878bc0>"
      ]
     },
     "execution_count": 4,
     "metadata": {},
     "output_type": "execute_result"
    }
   ],
   "source": [
    "con.execute(\"insert into students2 values('123', 'zhangsan', 15)\")\n",
    "con.execute(\"insert into students2 values('124', 'lisi', 15)\")"
   ]
  },
  {
   "cell_type": "code",
   "execution_count": 5,
   "id": "b3f76a1f-b981-40cc-a960-cb4b28e76900",
   "metadata": {},
   "outputs": [
    {
     "ename": "OperationalError",
     "evalue": "no such table: students1",
     "output_type": "error",
     "traceback": [
      "\u001b[1;31m---------------------------------------------------------------------------\u001b[0m",
      "\u001b[1;31mOperationalError\u001b[0m                          Traceback (most recent call last)",
      "Cell \u001b[1;32mIn[5], line 1\u001b[0m\n\u001b[1;32m----> 1\u001b[0m \u001b[43mcon\u001b[49m\u001b[38;5;241;43m.\u001b[39;49m\u001b[43mexecute\u001b[49m\u001b[43m(\u001b[49m\u001b[38;5;124;43m\"\u001b[39;49m\u001b[38;5;124;43mdrop table students1\u001b[39;49m\u001b[38;5;124;43m\"\u001b[39;49m\u001b[43m)\u001b[49m\n",
      "\u001b[1;31mOperationalError\u001b[0m: no such table: students1"
     ]
    }
   ],
   "source": [
    "con.execute(\"drop table students1\")"
   ]
  },
  {
   "cell_type": "code",
   "execution_count": 6,
   "id": "48ad21c5-172d-4878-a198-57ea0009a180",
   "metadata": {},
   "outputs": [
    {
     "data": {
      "text/plain": [
       "<sqlite3.Cursor at 0x207d4d205c0>"
      ]
     },
     "execution_count": 6,
     "metadata": {},
     "output_type": "execute_result"
    }
   ],
   "source": [
    "con.execute(\"drop table students2\")"
   ]
  },
  {
   "cell_type": "code",
   "execution_count": null,
   "id": "90fdbac1-2ec7-4d9a-8afe-7c95beca7f7f",
   "metadata": {},
   "outputs": [],
   "source": []
  }
 ],
 "metadata": {
  "kernelspec": {
   "display_name": "Python 3 (ipykernel)",
   "language": "python",
   "name": "python3"
  },
  "language_info": {
   "codemirror_mode": {
    "name": "ipython",
    "version": 3
   },
   "file_extension": ".py",
   "mimetype": "text/x-python",
   "name": "python",
   "nbconvert_exporter": "python",
   "pygments_lexer": "ipython3",
   "version": "3.10.6"
  }
 },
 "nbformat": 4,
 "nbformat_minor": 5
}
